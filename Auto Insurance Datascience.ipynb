{
 "cells": [
  {
   "cell_type": "markdown",
   "metadata": {},
   "source": [
    "# Introduction\n",
    "\n",
    "\n",
    "L’objectif du projet est de construire un code structuré et fonctionnel en python.\n",
    "Ce code doit permettre de faire une prédiction sur le jeu de données Auto Insurance pour cible TARGET_FLAG."
   ]
  },
  {
   "cell_type": "markdown",
   "metadata": {},
   "source": [
    "Pour ce repondre à cette problematique, nous allons decomposer notre probleme:\n",
    " * Comprehension du probleme et du dataset\n",
    " * Nettoyage du dataset (datacleaning)\n",
    " * Feature Engineering\n",
    " * EDA (courte)\n",
    " * Application des modeles de ML\n",
    " * Imporation predictions dans un csv\n",
    " \n",
    "Malheursement, nous n'avons pas d'inforamtions issues du Kaggle concernant les features du dataset."
   ]
  },
  {
   "cell_type": "markdown",
   "metadata": {},
   "source": [
    "##### Dans un premier temps nous allons importer les differentes librairies et fonctions utiles à notre projet"
   ]
  },
  {
   "cell_type": "code",
   "execution_count": 1,
   "metadata": {},
   "outputs": [],
   "source": [
    "# data analysis and wrangling\n",
    "import pandas as pd\n",
    "import numpy as np\n",
    "import random as rnd\n",
    "\n",
    "# visualisation\n",
    "import seaborn as sns\n",
    "import matplotlib.pyplot as plt\n",
    "from matplotlib import pyplot\n",
    "%matplotlib inline\n",
    "\n",
    "# machine learning\n",
    "from sklearn.preprocessing import LabelEncoder\n",
    "from sklearn.linear_model import LogisticRegression\n",
    "from sklearn.svm import SVC, LinearSVC\n",
    "from sklearn.ensemble import RandomForestClassifier\n",
    "from sklearn.linear_model import Perceptron\n",
    "from sklearn.neighbors import KNeighborsClassifier\n",
    "from sklearn.naive_bayes import GaussianNB"
   ]
  },
  {
   "cell_type": "markdown",
   "metadata": {},
   "source": [
    "#### Acquisition de la data\n",
    "\n",
    "La librairies Pandas va enormement nous aider dans le travail de données. Nous allons tout d'abord recuperer les differents jeu de données nottament de train et de test dans des DataFrames Pandas. "
   ]
  },
  {
   "cell_type": "code",
   "execution_count": 2,
   "metadata": {},
   "outputs": [],
   "source": [
    "train_df = pd.read_csv('train_auto.csv')\n",
    "test_df = pd.read_csv('test_auto.csv')"
   ]
  },
  {
   "cell_type": "markdown",
   "metadata": {},
   "source": [
    "Suppresion de Target_AMT car ce n'est pas celle que l'on veut predire et comporte que NAN ds le jeu de test"
   ]
  },
  {
   "cell_type": "code",
   "execution_count": 3,
   "metadata": {},
   "outputs": [],
   "source": [
    "train_df=train_df.drop(['TARGET_AMT'], axis=1)\n",
    "test_df=test_df.drop(['TARGET_AMT'], axis=1)"
   ]
  },
  {
   "cell_type": "markdown",
   "metadata": {},
   "source": [
    "### Analyse de notre jeu de données\n",
    "Nous allons donc dans un premier temps analyser notre jeu de données à travers:\n",
    "* Taille du dataset ?\n",
    "* Les types de differentes features\n",
    "  * Variables categorielles\n",
    "  * Variables numeriques\n",
    "* Faut-il changer les noms de colonnes pour que cela soit plus explicite ?\n",
    "* Suppresion des symboles qui genent a la comprenhension ($,#...)\n",
    "\n",
    "Cette premiere partie fait partie du Data cleaning. Nous allons donc nettoyer notre dataset afin de pouvoir l'analyser (dans un premier temps) dans les meilleurs conditions"
   ]
  },
  {
   "cell_type": "code",
   "execution_count": 4,
   "metadata": {
    "scrolled": false
   },
   "outputs": [
    {
     "data": {
      "text/html": [
       "<div>\n",
       "<style scoped>\n",
       "    .dataframe tbody tr th:only-of-type {\n",
       "        vertical-align: middle;\n",
       "    }\n",
       "\n",
       "    .dataframe tbody tr th {\n",
       "        vertical-align: top;\n",
       "    }\n",
       "\n",
       "    .dataframe thead th {\n",
       "        text-align: right;\n",
       "    }\n",
       "</style>\n",
       "<table border=\"1\" class=\"dataframe\">\n",
       "  <thead>\n",
       "    <tr style=\"text-align: right;\">\n",
       "      <th></th>\n",
       "      <th>INDEX</th>\n",
       "      <th>TARGET_FLAG</th>\n",
       "      <th>KIDSDRIV</th>\n",
       "      <th>AGE</th>\n",
       "      <th>HOMEKIDS</th>\n",
       "      <th>YOJ</th>\n",
       "      <th>INCOME</th>\n",
       "      <th>PARENT1</th>\n",
       "      <th>HOME_VAL</th>\n",
       "      <th>MSTATUS</th>\n",
       "      <th>...</th>\n",
       "      <th>BLUEBOOK</th>\n",
       "      <th>TIF</th>\n",
       "      <th>CAR_TYPE</th>\n",
       "      <th>RED_CAR</th>\n",
       "      <th>OLDCLAIM</th>\n",
       "      <th>CLM_FREQ</th>\n",
       "      <th>REVOKED</th>\n",
       "      <th>MVR_PTS</th>\n",
       "      <th>CAR_AGE</th>\n",
       "      <th>URBANICITY</th>\n",
       "    </tr>\n",
       "  </thead>\n",
       "  <tbody>\n",
       "    <tr>\n",
       "      <th>0</th>\n",
       "      <td>1</td>\n",
       "      <td>0</td>\n",
       "      <td>0</td>\n",
       "      <td>60.0</td>\n",
       "      <td>0</td>\n",
       "      <td>11.0</td>\n",
       "      <td>$67,349</td>\n",
       "      <td>No</td>\n",
       "      <td>$0</td>\n",
       "      <td>z_No</td>\n",
       "      <td>...</td>\n",
       "      <td>$14,230</td>\n",
       "      <td>11</td>\n",
       "      <td>Minivan</td>\n",
       "      <td>yes</td>\n",
       "      <td>$4,461</td>\n",
       "      <td>2</td>\n",
       "      <td>No</td>\n",
       "      <td>3</td>\n",
       "      <td>18.0</td>\n",
       "      <td>Highly Urban/ Urban</td>\n",
       "    </tr>\n",
       "    <tr>\n",
       "      <th>1</th>\n",
       "      <td>2</td>\n",
       "      <td>0</td>\n",
       "      <td>0</td>\n",
       "      <td>43.0</td>\n",
       "      <td>0</td>\n",
       "      <td>11.0</td>\n",
       "      <td>$91,449</td>\n",
       "      <td>No</td>\n",
       "      <td>$257,252</td>\n",
       "      <td>z_No</td>\n",
       "      <td>...</td>\n",
       "      <td>$14,940</td>\n",
       "      <td>1</td>\n",
       "      <td>Minivan</td>\n",
       "      <td>yes</td>\n",
       "      <td>$0</td>\n",
       "      <td>0</td>\n",
       "      <td>No</td>\n",
       "      <td>0</td>\n",
       "      <td>1.0</td>\n",
       "      <td>Highly Urban/ Urban</td>\n",
       "    </tr>\n",
       "    <tr>\n",
       "      <th>2</th>\n",
       "      <td>4</td>\n",
       "      <td>0</td>\n",
       "      <td>0</td>\n",
       "      <td>35.0</td>\n",
       "      <td>1</td>\n",
       "      <td>10.0</td>\n",
       "      <td>$16,039</td>\n",
       "      <td>No</td>\n",
       "      <td>$124,191</td>\n",
       "      <td>Yes</td>\n",
       "      <td>...</td>\n",
       "      <td>$4,010</td>\n",
       "      <td>4</td>\n",
       "      <td>z_SUV</td>\n",
       "      <td>no</td>\n",
       "      <td>$38,690</td>\n",
       "      <td>2</td>\n",
       "      <td>No</td>\n",
       "      <td>3</td>\n",
       "      <td>10.0</td>\n",
       "      <td>Highly Urban/ Urban</td>\n",
       "    </tr>\n",
       "    <tr>\n",
       "      <th>3</th>\n",
       "      <td>5</td>\n",
       "      <td>0</td>\n",
       "      <td>0</td>\n",
       "      <td>51.0</td>\n",
       "      <td>0</td>\n",
       "      <td>14.0</td>\n",
       "      <td>NaN</td>\n",
       "      <td>No</td>\n",
       "      <td>$306,251</td>\n",
       "      <td>Yes</td>\n",
       "      <td>...</td>\n",
       "      <td>$15,440</td>\n",
       "      <td>7</td>\n",
       "      <td>Minivan</td>\n",
       "      <td>yes</td>\n",
       "      <td>$0</td>\n",
       "      <td>0</td>\n",
       "      <td>No</td>\n",
       "      <td>0</td>\n",
       "      <td>6.0</td>\n",
       "      <td>Highly Urban/ Urban</td>\n",
       "    </tr>\n",
       "    <tr>\n",
       "      <th>4</th>\n",
       "      <td>6</td>\n",
       "      <td>0</td>\n",
       "      <td>0</td>\n",
       "      <td>50.0</td>\n",
       "      <td>0</td>\n",
       "      <td>NaN</td>\n",
       "      <td>$114,986</td>\n",
       "      <td>No</td>\n",
       "      <td>$243,925</td>\n",
       "      <td>Yes</td>\n",
       "      <td>...</td>\n",
       "      <td>$18,000</td>\n",
       "      <td>1</td>\n",
       "      <td>z_SUV</td>\n",
       "      <td>no</td>\n",
       "      <td>$19,217</td>\n",
       "      <td>2</td>\n",
       "      <td>Yes</td>\n",
       "      <td>3</td>\n",
       "      <td>17.0</td>\n",
       "      <td>Highly Urban/ Urban</td>\n",
       "    </tr>\n",
       "  </tbody>\n",
       "</table>\n",
       "<p>5 rows × 25 columns</p>\n",
       "</div>"
      ],
      "text/plain": [
       "   INDEX  TARGET_FLAG  KIDSDRIV   AGE  HOMEKIDS   YOJ    INCOME PARENT1  \\\n",
       "0      1            0         0  60.0         0  11.0   $67,349      No   \n",
       "1      2            0         0  43.0         0  11.0   $91,449      No   \n",
       "2      4            0         0  35.0         1  10.0   $16,039      No   \n",
       "3      5            0         0  51.0         0  14.0       NaN      No   \n",
       "4      6            0         0  50.0         0   NaN  $114,986      No   \n",
       "\n",
       "   HOME_VAL MSTATUS  ... BLUEBOOK TIF CAR_TYPE  RED_CAR OLDCLAIM CLM_FREQ  \\\n",
       "0        $0    z_No  ...  $14,230  11  Minivan      yes   $4,461        2   \n",
       "1  $257,252    z_No  ...  $14,940   1  Minivan      yes       $0        0   \n",
       "2  $124,191     Yes  ...   $4,010   4    z_SUV       no  $38,690        2   \n",
       "3  $306,251     Yes  ...  $15,440   7  Minivan      yes       $0        0   \n",
       "4  $243,925     Yes  ...  $18,000   1    z_SUV       no  $19,217        2   \n",
       "\n",
       "   REVOKED MVR_PTS CAR_AGE           URBANICITY  \n",
       "0       No       3    18.0  Highly Urban/ Urban  \n",
       "1       No       0     1.0  Highly Urban/ Urban  \n",
       "2       No       3    10.0  Highly Urban/ Urban  \n",
       "3       No       0     6.0  Highly Urban/ Urban  \n",
       "4      Yes       3    17.0  Highly Urban/ Urban  \n",
       "\n",
       "[5 rows x 25 columns]"
      ]
     },
     "execution_count": 4,
     "metadata": {},
     "output_type": "execute_result"
    }
   ],
   "source": [
    "#Check rapide de notre dataset\n",
    "train_df.head()"
   ]
  },
  {
   "cell_type": "code",
   "execution_count": 5,
   "metadata": {},
   "outputs": [
    {
     "data": {
      "text/plain": [
       "(8161, 25)"
      ]
     },
     "execution_count": 5,
     "metadata": {},
     "output_type": "execute_result"
    }
   ],
   "source": [
    "#Quels est la taille de notre dataset\n",
    "train_df.shape"
   ]
  },
  {
   "cell_type": "code",
   "execution_count": 6,
   "metadata": {},
   "outputs": [
    {
     "data": {
      "text/plain": [
       "Index(['INDEX', 'TARGET_FLAG', 'KIDSDRIV', 'AGE', 'HOMEKIDS', 'YOJ', 'INCOME',\n",
       "       'PARENT1', 'HOME_VAL', 'MSTATUS', 'SEX', 'EDUCATION', 'JOB', 'TRAVTIME',\n",
       "       'CAR_USE', 'BLUEBOOK', 'TIF', 'CAR_TYPE', 'RED_CAR', 'OLDCLAIM',\n",
       "       'CLM_FREQ', 'REVOKED', 'MVR_PTS', 'CAR_AGE', 'URBANICITY'],\n",
       "      dtype='object')"
      ]
     },
     "execution_count": 6,
     "metadata": {},
     "output_type": "execute_result"
    }
   ],
   "source": [
    "#Quels sont les features ?\n",
    "train_df.columns"
   ]
  },
  {
   "cell_type": "code",
   "execution_count": 7,
   "metadata": {
    "scrolled": false
   },
   "outputs": [
    {
     "name": "stdout",
     "output_type": "stream",
     "text": [
      "<class 'pandas.core.frame.DataFrame'>\n",
      "RangeIndex: 8161 entries, 0 to 8160\n",
      "Data columns (total 25 columns):\n",
      "INDEX          8161 non-null int64\n",
      "TARGET_FLAG    8161 non-null int64\n",
      "KIDSDRIV       8161 non-null int64\n",
      "AGE            8155 non-null float64\n",
      "HOMEKIDS       8161 non-null int64\n",
      "YOJ            7707 non-null float64\n",
      "INCOME         7716 non-null object\n",
      "PARENT1        8161 non-null object\n",
      "HOME_VAL       7697 non-null object\n",
      "MSTATUS        8161 non-null object\n",
      "SEX            8161 non-null object\n",
      "EDUCATION      8161 non-null object\n",
      "JOB            7635 non-null object\n",
      "TRAVTIME       8161 non-null int64\n",
      "CAR_USE        8161 non-null object\n",
      "BLUEBOOK       8161 non-null object\n",
      "TIF            8161 non-null int64\n",
      "CAR_TYPE       8161 non-null object\n",
      "RED_CAR        8161 non-null object\n",
      "OLDCLAIM       8161 non-null object\n",
      "CLM_FREQ       8161 non-null int64\n",
      "REVOKED        8161 non-null object\n",
      "MVR_PTS        8161 non-null int64\n",
      "CAR_AGE        7651 non-null float64\n",
      "URBANICITY     8161 non-null object\n",
      "dtypes: float64(3), int64(8), object(14)\n",
      "memory usage: 1.6+ MB\n"
     ]
    }
   ],
   "source": [
    "#Analysons les types de nos features\n",
    "train_df.info()"
   ]
  },
  {
   "cell_type": "markdown",
   "metadata": {},
   "source": [
    "Nous comprenons alors que :\n",
    "* Notre dataset est composer de 26 colonnes et de 8161 lignes\n",
    "* Il y a 12 variables numériques et 14 variables categorielles"
   ]
  },
  {
   "cell_type": "code",
   "execution_count": 8,
   "metadata": {
    "scrolled": true
   },
   "outputs": [
    {
     "data": {
      "text/html": [
       "<div>\n",
       "<style scoped>\n",
       "    .dataframe tbody tr th:only-of-type {\n",
       "        vertical-align: middle;\n",
       "    }\n",
       "\n",
       "    .dataframe tbody tr th {\n",
       "        vertical-align: top;\n",
       "    }\n",
       "\n",
       "    .dataframe thead th {\n",
       "        text-align: right;\n",
       "    }\n",
       "</style>\n",
       "<table border=\"1\" class=\"dataframe\">\n",
       "  <thead>\n",
       "    <tr style=\"text-align: right;\">\n",
       "      <th></th>\n",
       "      <th>INDEX</th>\n",
       "      <th>TARGET_FLAG</th>\n",
       "      <th>KIDSDRIV</th>\n",
       "      <th>AGE</th>\n",
       "      <th>HOMEKIDS</th>\n",
       "      <th>YOJ</th>\n",
       "      <th>TRAVTIME</th>\n",
       "      <th>TIF</th>\n",
       "      <th>CLM_FREQ</th>\n",
       "      <th>MVR_PTS</th>\n",
       "      <th>CAR_AGE</th>\n",
       "    </tr>\n",
       "  </thead>\n",
       "  <tbody>\n",
       "    <tr>\n",
       "      <th>count</th>\n",
       "      <td>8161.000000</td>\n",
       "      <td>8161.000000</td>\n",
       "      <td>8161.000000</td>\n",
       "      <td>8155.000000</td>\n",
       "      <td>8161.000000</td>\n",
       "      <td>7707.000000</td>\n",
       "      <td>8161.000000</td>\n",
       "      <td>8161.000000</td>\n",
       "      <td>8161.000000</td>\n",
       "      <td>8161.000000</td>\n",
       "      <td>7651.000000</td>\n",
       "    </tr>\n",
       "    <tr>\n",
       "      <th>mean</th>\n",
       "      <td>5151.867663</td>\n",
       "      <td>0.263816</td>\n",
       "      <td>0.171057</td>\n",
       "      <td>44.790313</td>\n",
       "      <td>0.721235</td>\n",
       "      <td>10.499286</td>\n",
       "      <td>33.485725</td>\n",
       "      <td>5.351305</td>\n",
       "      <td>0.798554</td>\n",
       "      <td>1.695503</td>\n",
       "      <td>8.328323</td>\n",
       "    </tr>\n",
       "    <tr>\n",
       "      <th>std</th>\n",
       "      <td>2978.893962</td>\n",
       "      <td>0.440728</td>\n",
       "      <td>0.511534</td>\n",
       "      <td>8.627589</td>\n",
       "      <td>1.116323</td>\n",
       "      <td>4.092474</td>\n",
       "      <td>15.908333</td>\n",
       "      <td>4.146635</td>\n",
       "      <td>1.158453</td>\n",
       "      <td>2.147112</td>\n",
       "      <td>5.700742</td>\n",
       "    </tr>\n",
       "    <tr>\n",
       "      <th>min</th>\n",
       "      <td>1.000000</td>\n",
       "      <td>0.000000</td>\n",
       "      <td>0.000000</td>\n",
       "      <td>16.000000</td>\n",
       "      <td>0.000000</td>\n",
       "      <td>0.000000</td>\n",
       "      <td>5.000000</td>\n",
       "      <td>1.000000</td>\n",
       "      <td>0.000000</td>\n",
       "      <td>0.000000</td>\n",
       "      <td>-3.000000</td>\n",
       "    </tr>\n",
       "    <tr>\n",
       "      <th>25%</th>\n",
       "      <td>2559.000000</td>\n",
       "      <td>0.000000</td>\n",
       "      <td>0.000000</td>\n",
       "      <td>39.000000</td>\n",
       "      <td>0.000000</td>\n",
       "      <td>9.000000</td>\n",
       "      <td>22.000000</td>\n",
       "      <td>1.000000</td>\n",
       "      <td>0.000000</td>\n",
       "      <td>0.000000</td>\n",
       "      <td>1.000000</td>\n",
       "    </tr>\n",
       "    <tr>\n",
       "      <th>50%</th>\n",
       "      <td>5133.000000</td>\n",
       "      <td>0.000000</td>\n",
       "      <td>0.000000</td>\n",
       "      <td>45.000000</td>\n",
       "      <td>0.000000</td>\n",
       "      <td>11.000000</td>\n",
       "      <td>33.000000</td>\n",
       "      <td>4.000000</td>\n",
       "      <td>0.000000</td>\n",
       "      <td>1.000000</td>\n",
       "      <td>8.000000</td>\n",
       "    </tr>\n",
       "    <tr>\n",
       "      <th>75%</th>\n",
       "      <td>7745.000000</td>\n",
       "      <td>1.000000</td>\n",
       "      <td>0.000000</td>\n",
       "      <td>51.000000</td>\n",
       "      <td>1.000000</td>\n",
       "      <td>13.000000</td>\n",
       "      <td>44.000000</td>\n",
       "      <td>7.000000</td>\n",
       "      <td>2.000000</td>\n",
       "      <td>3.000000</td>\n",
       "      <td>12.000000</td>\n",
       "    </tr>\n",
       "    <tr>\n",
       "      <th>max</th>\n",
       "      <td>10302.000000</td>\n",
       "      <td>1.000000</td>\n",
       "      <td>4.000000</td>\n",
       "      <td>81.000000</td>\n",
       "      <td>5.000000</td>\n",
       "      <td>23.000000</td>\n",
       "      <td>142.000000</td>\n",
       "      <td>25.000000</td>\n",
       "      <td>5.000000</td>\n",
       "      <td>13.000000</td>\n",
       "      <td>28.000000</td>\n",
       "    </tr>\n",
       "  </tbody>\n",
       "</table>\n",
       "</div>"
      ],
      "text/plain": [
       "              INDEX  TARGET_FLAG     KIDSDRIV          AGE     HOMEKIDS  \\\n",
       "count   8161.000000  8161.000000  8161.000000  8155.000000  8161.000000   \n",
       "mean    5151.867663     0.263816     0.171057    44.790313     0.721235   \n",
       "std     2978.893962     0.440728     0.511534     8.627589     1.116323   \n",
       "min        1.000000     0.000000     0.000000    16.000000     0.000000   \n",
       "25%     2559.000000     0.000000     0.000000    39.000000     0.000000   \n",
       "50%     5133.000000     0.000000     0.000000    45.000000     0.000000   \n",
       "75%     7745.000000     1.000000     0.000000    51.000000     1.000000   \n",
       "max    10302.000000     1.000000     4.000000    81.000000     5.000000   \n",
       "\n",
       "               YOJ     TRAVTIME          TIF     CLM_FREQ      MVR_PTS  \\\n",
       "count  7707.000000  8161.000000  8161.000000  8161.000000  8161.000000   \n",
       "mean     10.499286    33.485725     5.351305     0.798554     1.695503   \n",
       "std       4.092474    15.908333     4.146635     1.158453     2.147112   \n",
       "min       0.000000     5.000000     1.000000     0.000000     0.000000   \n",
       "25%       9.000000    22.000000     1.000000     0.000000     0.000000   \n",
       "50%      11.000000    33.000000     4.000000     0.000000     1.000000   \n",
       "75%      13.000000    44.000000     7.000000     2.000000     3.000000   \n",
       "max      23.000000   142.000000    25.000000     5.000000    13.000000   \n",
       "\n",
       "           CAR_AGE  \n",
       "count  7651.000000  \n",
       "mean      8.328323  \n",
       "std       5.700742  \n",
       "min      -3.000000  \n",
       "25%       1.000000  \n",
       "50%       8.000000  \n",
       "75%      12.000000  \n",
       "max      28.000000  "
      ]
     },
     "execution_count": 8,
     "metadata": {},
     "output_type": "execute_result"
    }
   ],
   "source": [
    "#Nous regadons ici les differentes informations sur les variables numeriques\n",
    "train_df.describe()"
   ]
  },
  {
   "cell_type": "markdown",
   "metadata": {},
   "source": [
    "Ce que l'on comprend ici (entre autres):\n",
    "\n",
    "* TARGET_FLAG a deux valeurs possible 0 ou 1. C'est donc bien une variable categorielle que nous allons predire (probleme de classification)\n",
    "* L'age est compris entre 44 et 81 ans\n",
    "* Les variables ne sont pas totutes à la meme echelle."
   ]
  },
  {
   "cell_type": "code",
   "execution_count": 9,
   "metadata": {
    "scrolled": true
   },
   "outputs": [
    {
     "data": {
      "text/html": [
       "<div>\n",
       "<style scoped>\n",
       "    .dataframe tbody tr th:only-of-type {\n",
       "        vertical-align: middle;\n",
       "    }\n",
       "\n",
       "    .dataframe tbody tr th {\n",
       "        vertical-align: top;\n",
       "    }\n",
       "\n",
       "    .dataframe thead th {\n",
       "        text-align: right;\n",
       "    }\n",
       "</style>\n",
       "<table border=\"1\" class=\"dataframe\">\n",
       "  <thead>\n",
       "    <tr style=\"text-align: right;\">\n",
       "      <th></th>\n",
       "      <th>INCOME</th>\n",
       "      <th>PARENT1</th>\n",
       "      <th>HOME_VAL</th>\n",
       "      <th>MSTATUS</th>\n",
       "      <th>SEX</th>\n",
       "      <th>EDUCATION</th>\n",
       "      <th>JOB</th>\n",
       "      <th>CAR_USE</th>\n",
       "      <th>BLUEBOOK</th>\n",
       "      <th>CAR_TYPE</th>\n",
       "      <th>RED_CAR</th>\n",
       "      <th>OLDCLAIM</th>\n",
       "      <th>REVOKED</th>\n",
       "      <th>URBANICITY</th>\n",
       "    </tr>\n",
       "  </thead>\n",
       "  <tbody>\n",
       "    <tr>\n",
       "      <th>count</th>\n",
       "      <td>7716</td>\n",
       "      <td>8161</td>\n",
       "      <td>7697</td>\n",
       "      <td>8161</td>\n",
       "      <td>8161</td>\n",
       "      <td>8161</td>\n",
       "      <td>7635</td>\n",
       "      <td>8161</td>\n",
       "      <td>8161</td>\n",
       "      <td>8161</td>\n",
       "      <td>8161</td>\n",
       "      <td>8161</td>\n",
       "      <td>8161</td>\n",
       "      <td>8161</td>\n",
       "    </tr>\n",
       "    <tr>\n",
       "      <th>unique</th>\n",
       "      <td>6612</td>\n",
       "      <td>2</td>\n",
       "      <td>5106</td>\n",
       "      <td>2</td>\n",
       "      <td>2</td>\n",
       "      <td>5</td>\n",
       "      <td>8</td>\n",
       "      <td>2</td>\n",
       "      <td>2789</td>\n",
       "      <td>6</td>\n",
       "      <td>2</td>\n",
       "      <td>2857</td>\n",
       "      <td>2</td>\n",
       "      <td>2</td>\n",
       "    </tr>\n",
       "    <tr>\n",
       "      <th>top</th>\n",
       "      <td>$0</td>\n",
       "      <td>No</td>\n",
       "      <td>$0</td>\n",
       "      <td>Yes</td>\n",
       "      <td>z_F</td>\n",
       "      <td>z_High School</td>\n",
       "      <td>z_Blue Collar</td>\n",
       "      <td>Private</td>\n",
       "      <td>$1,500</td>\n",
       "      <td>z_SUV</td>\n",
       "      <td>no</td>\n",
       "      <td>$0</td>\n",
       "      <td>No</td>\n",
       "      <td>Highly Urban/ Urban</td>\n",
       "    </tr>\n",
       "    <tr>\n",
       "      <th>freq</th>\n",
       "      <td>615</td>\n",
       "      <td>7084</td>\n",
       "      <td>2294</td>\n",
       "      <td>4894</td>\n",
       "      <td>4375</td>\n",
       "      <td>2330</td>\n",
       "      <td>1825</td>\n",
       "      <td>5132</td>\n",
       "      <td>157</td>\n",
       "      <td>2294</td>\n",
       "      <td>5783</td>\n",
       "      <td>5009</td>\n",
       "      <td>7161</td>\n",
       "      <td>6492</td>\n",
       "    </tr>\n",
       "  </tbody>\n",
       "</table>\n",
       "</div>"
      ],
      "text/plain": [
       "       INCOME PARENT1 HOME_VAL MSTATUS   SEX      EDUCATION            JOB  \\\n",
       "count    7716    8161     7697    8161  8161           8161           7635   \n",
       "unique   6612       2     5106       2     2              5              8   \n",
       "top        $0      No       $0     Yes   z_F  z_High School  z_Blue Collar   \n",
       "freq      615    7084     2294    4894  4375           2330           1825   \n",
       "\n",
       "        CAR_USE BLUEBOOK CAR_TYPE RED_CAR OLDCLAIM REVOKED  \\\n",
       "count      8161     8161     8161    8161     8161    8161   \n",
       "unique        2     2789        6       2     2857       2   \n",
       "top     Private   $1,500    z_SUV      no       $0      No   \n",
       "freq       5132      157     2294    5783     5009    7161   \n",
       "\n",
       "                 URBANICITY  \n",
       "count                  8161  \n",
       "unique                    2  \n",
       "top     Highly Urban/ Urban  \n",
       "freq                   6492  "
      ]
     },
     "execution_count": 9,
     "metadata": {},
     "output_type": "execute_result"
    }
   ],
   "source": [
    "#Nous regadons ici les differentes informations sur les variables categorielles\n",
    "train_df.describe(include=['O'])"
   ]
  },
  {
   "cell_type": "markdown",
   "metadata": {},
   "source": [
    "Ce que l'on comprend ici:\n",
    "* Aucune varibale n'a de valeurs unique.\n",
    "* De nombreuses variables prenent 2 valeurs possibles ce qui semble logique comme le sex avec plus de femme que d'homme avec 53%\n",
    "* Il y a 8 differents type de Job et 6 differents type de voiture avec SUV qui est le plus present avec 28%"
   ]
  },
  {
   "cell_type": "markdown",
   "metadata": {},
   "source": [
    "## Nettoyage de la donnée\n",
    "\n",
    "\n",
    "Cette premiere partie fait partie du Data cleaning. Nous allons donc nettoyer notre dataset afin de pouvoir l'analyser (dans un premier temps) dans les meilleurs conditions\n",
    "\n",
    "* Nombre de valeurs sans informations (Nan) ?\n",
    "* Supression de colonne inutile au model (nunique,>80% Nan ...)\n",
    "* Convertir certain type"
   ]
  },
  {
   "cell_type": "markdown",
   "metadata": {},
   "source": [
    "Nous allons enlever à present les symboles qui genent à la comprehension"
   ]
  },
  {
   "cell_type": "code",
   "execution_count": 10,
   "metadata": {},
   "outputs": [],
   "source": [
    "train_df.columns = train_df.columns.str.replace(' ', '')\n",
    "test_df.columns = test_df.columns.str.replace(' ', '')"
   ]
  },
  {
   "cell_type": "code",
   "execution_count": 11,
   "metadata": {},
   "outputs": [],
   "source": [
    "train_df['INCOME']=train_df['INCOME'].str.replace('$', '')\n",
    "train_df['INCOME']=train_df['INCOME'].str.replace(',', '.')\n",
    "\n",
    "train_df['OLDCLAIM']=train_df['OLDCLAIM'].str.replace('$', '')\n",
    "train_df['OLDCLAIM']=train_df['OLDCLAIM'].str.replace(',', '.')\n",
    "\n",
    "train_df['HOME_VAL']=train_df['HOME_VAL'].str.replace('$', '')\n",
    "train_df['HOME_VAL']=train_df['HOME_VAL'].str.replace(',', '.')\n",
    "\n",
    "train_df['BLUEBOOK']=train_df['BLUEBOOK'].str.replace('$', '')\n",
    "train_df['BLUEBOOK']=train_df['BLUEBOOK'].str.replace(',', '.')\n",
    "\n",
    "train_df['INCOME']=train_df['INCOME'].str.replace('$', '')\n",
    "train_df['INCOME']=train_df['INCOME'].str.replace(',', '.')\n"
   ]
  },
  {
   "cell_type": "code",
   "execution_count": 12,
   "metadata": {},
   "outputs": [],
   "source": [
    "test_df['INCOME']=test_df['INCOME'].str.replace('$', '')\n",
    "test_df['INCOME']=test_df['INCOME'].str.replace(',', '.')\n",
    "\n",
    "test_df['OLDCLAIM']=test_df['OLDCLAIM'].str.replace('$', '')\n",
    "test_df['OLDCLAIM']=test_df['OLDCLAIM'].str.replace(',', '.')\n",
    "\n",
    "test_df['HOME_VAL']=test_df['HOME_VAL'].str.replace('$', '')\n",
    "test_df['HOME_VAL']=test_df['HOME_VAL'].str.replace(',', '.')\n",
    "\n",
    "test_df['BLUEBOOK']=test_df['BLUEBOOK'].str.replace('$', '')\n",
    "test_df['BLUEBOOK']=test_df['BLUEBOOK'].str.replace(',', '.')\n",
    "\n",
    "test_df['INCOME']=test_df['INCOME'].str.replace('$', '')\n",
    "test_df['INCOME']=test_df['INCOME'].str.replace(',', '.')"
   ]
  },
  {
   "cell_type": "markdown",
   "metadata": {},
   "source": [
    "Convertissions à present les type objet en float une fois les symboles retirés"
   ]
  },
  {
   "cell_type": "code",
   "execution_count": 13,
   "metadata": {
    "scrolled": true
   },
   "outputs": [],
   "source": [
    "train_df['HOME_VAL']=train_df['HOME_VAL'].astype(str).astype(float)\n",
    "train_df['BLUEBOOK']=train_df['BLUEBOOK'].astype(str).astype(float)\n",
    "train_df['OLDCLAIM']=train_df['OLDCLAIM'].astype(str).astype(float)\n",
    "train_df['INCOME']=train_df['INCOME'].astype(object).astype(float)"
   ]
  },
  {
   "cell_type": "code",
   "execution_count": 14,
   "metadata": {},
   "outputs": [],
   "source": [
    "test_df['HOME_VAL']=test_df['HOME_VAL'].astype(str).astype(float)\n",
    "test_df['BLUEBOOK']=test_df['BLUEBOOK'].astype(str).astype(float)\n",
    "test_df['OLDCLAIM']=test_df['OLDCLAIM'].astype(str).astype(float)\n",
    "test_df['INCOME']=test_df['INCOME'].astype(object).astype(float)"
   ]
  },
  {
   "cell_type": "markdown",
   "metadata": {},
   "source": [
    "Regardons les valeurs maquantes de notre dataset à travers quelques visualisations"
   ]
  },
  {
   "cell_type": "code",
   "execution_count": 15,
   "metadata": {},
   "outputs": [
    {
     "name": "stdout",
     "output_type": "stream",
     "text": [
      "all_data size is : (10302, 24)\n"
     ]
    }
   ],
   "source": [
    "all_data = pd.concat((train_df, test_df)).reset_index(drop=True)\n",
    "all_data.drop(['TARGET_FLAG'], axis=1, inplace=True) #data to be predicted\n",
    "print(\"all_data size is : {}\".format(all_data.shape))\n",
    "y_train = train_df.TARGET_FLAG.values"
   ]
  },
  {
   "cell_type": "code",
   "execution_count": 16,
   "metadata": {},
   "outputs": [],
   "source": [
    "all_data_na = (all_data.isnull().sum() / len(all_data)) * 100\n",
    "all_data_na = all_data_na.drop(all_data_na[all_data_na == 0].index).sort_values(ascending=False)[:30]"
   ]
  },
  {
   "cell_type": "code",
   "execution_count": 17,
   "metadata": {},
   "outputs": [
    {
     "data": {
      "text/plain": [
       "Text(0.5, 1.0, 'Percent missing data by feature')"
      ]
     },
     "execution_count": 17,
     "metadata": {},
     "output_type": "execute_result"
    },
    {
     "data": {
      "image/png": "[encoded data removed]",
      "text/plain": [
       "<Figure size 1080x864 with 1 Axes>"
      ]
     },
     "metadata": {
      "needs_background": "light"
     },
     "output_type": "display_data"
    }
   ],
   "source": [
    "f, ax = plt.subplots(figsize=(15, 12))\n",
    "plt.xticks(rotation='90')\n",
    "sns.barplot(x=all_data_na.index, y=all_data_na)\n",
    "plt.xlabel('Features', fontsize=15)\n",
    "plt.ylabel('Percent of missing values', fontsize=15)\n",
    "plt.title('Percent missing data by feature', fontsize=15)"
   ]
  },
  {
   "cell_type": "markdown",
   "metadata": {},
   "source": [
    "Nous comprenons alors que:\n",
    "* Que six features possedent des valeurs manquantes: YOJ, INCOME, HOME_VAL,JOB and CAR_AGE et AGE"
   ]
  },
  {
   "cell_type": "markdown",
   "metadata": {},
   "source": [
    "Nous allons donc nous occuper des ses valeurs manquantes.*\n",
    "\n",
    "*En temps normal il est necessaires de faire au cas par cas."
   ]
  },
  {
   "cell_type": "code",
   "execution_count": 18,
   "metadata": {},
   "outputs": [],
   "source": [
    "#Pour CAR_AGE, INCOME nous allons mettre la moyenne des colonnes à la place\n",
    "train_df[\"CAR_AGE\"] = train_df[\"CAR_AGE\"].fillna(train_df[\"CAR_AGE\"].mean())\n",
    "train_df[\"INCOME\"] = train_df[\"INCOME\"].fillna(train_df[\"INCOME\"].mean())\n",
    "train_df[\"AGE\"] = train_df[\"AGE\"].fillna(train_df[\"AGE\"].mean())\n",
    "train_df[\"HOME_VAL\"] = train_df[\"HOME_VAL\"].fillna(train_df[\"HOME_VAL\"].mean())\n",
    "train_df[\"YOJ\"] = train_df[\"YOJ\"].fillna(train_df[\"YOJ\"].mean())\n",
    "\n",
    "#Pour CAR_AGE, INCOME nous allons mettre le mode de la colonnes à la place\n",
    "train_df['JOB'] = train_df['JOB'].fillna(train_df['JOB'].mode()[0])"
   ]
  },
  {
   "cell_type": "code",
   "execution_count": 19,
   "metadata": {},
   "outputs": [],
   "source": [
    "test_df[\"CAR_AGE\"] = test_df[\"CAR_AGE\"].fillna(test_df[\"CAR_AGE\"].mean())\n",
    "test_df[\"INCOME\"] = test_df[\"INCOME\"].fillna(test_df[\"INCOME\"].mean())\n",
    "test_df[\"AGE\"] = test_df[\"AGE\"].fillna(test_df[\"AGE\"].mean())\n",
    "test_df[\"HOME_VAL\"] = test_df[\"HOME_VAL\"].fillna(test_df[\"HOME_VAL\"].mean())\n",
    "test_df[\"YOJ\"] = test_df[\"YOJ\"].fillna(test_df[\"YOJ\"].mean())\n",
    "\n",
    "test_df['JOB'] = all_data['JOB'].fillna(test_df['JOB'].mode()[0])"
   ]
  },
  {
   "cell_type": "code",
   "execution_count": 20,
   "metadata": {},
   "outputs": [],
   "source": [
    "#Remplacement des Nan par des 0 afin de faire fonctionner nos modeles\n",
    "test_df[\"TARGET_FLAG\"] = test_df[\"TARGET_FLAG\"].fillna('0')"
   ]
  },
  {
   "cell_type": "markdown",
   "metadata": {},
   "source": [
    "## EDA "
   ]
  },
  {
   "cell_type": "markdown",
   "metadata": {},
   "source": [
    "#### Analyse courte de notre target\n",
    "\n",
    "Nous allons à present travailler sur la variable à predire, c'est a dire TARGET_Flag. Nous avons ici un probleme de Classification."
   ]
  },
  {
   "cell_type": "code",
   "execution_count": 21,
   "metadata": {
    "scrolled": false
   },
   "outputs": [
    {
     "data": {
      "text/plain": [
       "count    8161.000000\n",
       "mean        0.263816\n",
       "std         0.440728\n",
       "min         0.000000\n",
       "25%         0.000000\n",
       "50%         0.000000\n",
       "75%         1.000000\n",
       "max         1.000000\n",
       "Name: TARGET_FLAG, dtype: float64"
      ]
     },
     "execution_count": 21,
     "metadata": {},
     "output_type": "execute_result"
    }
   ],
   "source": [
    "# Statistique de notre target\n",
    "train_df['TARGET_FLAG'].describe()"
   ]
  },
  {
   "cell_type": "code",
   "execution_count": 22,
   "metadata": {
    "scrolled": false
   },
   "outputs": [
    {
     "data": {
      "text/plain": [
       "<matplotlib.axes._subplots.AxesSubplot at 0x1bb8a375780>"
      ]
     },
     "execution_count": 22,
     "metadata": {},
     "output_type": "execute_result"
    },
    {
     "data": {
      "image/png": "[encoded data removed]",
      "text/plain": [
       "<Figure size 432x288 with 1 Axes>"
      ]
     },
     "metadata": {
      "needs_background": "light"
     },
     "output_type": "display_data"
    }
   ],
   "source": [
    "#Histogramme afin de voir sa distribution\n",
    "sns.distplot(train_df['TARGET_FLAG'],bins=10, kde=False,color='g')"
   ]
  },
  {
   "cell_type": "markdown",
   "metadata": {},
   "source": [
    "Interessant...Nous avons bien comme nous l'avons pensez des varibles binaire 0 ou 1. Regardons ca de plus pret travers un histogramme. Nous utilisons ici la library Seaborn qui propose des visualisation parfois trés pertinentes."
   ]
  },
  {
   "cell_type": "markdown",
   "metadata": {},
   "source": [
    "#### Analyse des features"
   ]
  },
  {
   "cell_type": "code",
   "execution_count": 23,
   "metadata": {
    "scrolled": false
   },
   "outputs": [
    {
     "data": {
      "text/plain": [
       "array([[<matplotlib.axes._subplots.AxesSubplot object at 0x000001BB8A37CF28>,\n",
       "        <matplotlib.axes._subplots.AxesSubplot object at 0x000001BB8A295438>,\n",
       "        <matplotlib.axes._subplots.AxesSubplot object at 0x000001BB8A36ACF8>,\n",
       "        <matplotlib.axes._subplots.AxesSubplot object at 0x000001BB8A361A58>],\n",
       "       [<matplotlib.axes._subplots.AxesSubplot object at 0x000001BB8A35DAC8>,\n",
       "        <matplotlib.axes._subplots.AxesSubplot object at 0x000001BB8A3591D0>,\n",
       "        <matplotlib.axes._subplots.AxesSubplot object at 0x000001BB8A354BE0>,\n",
       "        <matplotlib.axes._subplots.AxesSubplot object at 0x000001BB8A350160>],\n",
       "       [<matplotlib.axes._subplots.AxesSubplot object at 0x000001BB8A3500F0>,\n",
       "        <matplotlib.axes._subplots.AxesSubplot object at 0x000001BB8A2664E0>,\n",
       "        <matplotlib.axes._subplots.AxesSubplot object at 0x000001BB8A10D710>,\n",
       "        <matplotlib.axes._subplots.AxesSubplot object at 0x000001BB8A987630>],\n",
       "       [<matplotlib.axes._subplots.AxesSubplot object at 0x000001BB8A9B8BE0>,\n",
       "        <matplotlib.axes._subplots.AxesSubplot object at 0x000001BB8A9F71D0>,\n",
       "        <matplotlib.axes._subplots.AxesSubplot object at 0x000001BB8AA26748>,\n",
       "        <matplotlib.axes._subplots.AxesSubplot object at 0x000001BB8AA58CF8>]],\n",
       "      dtype=object)"
      ]
     },
     "execution_count": 23,
     "metadata": {},
     "output_type": "execute_result"
    },
    {
     "data": {
      "image/png": "[encoded data removed]",
      "text/plain": [
       "<Figure size 864x864 with 16 Axes>"
      ]
     },
     "metadata": {
      "needs_background": "light"
     },
     "output_type": "display_data"
    }
   ],
   "source": [
    "#Plot histograms of CUT1 variables\n",
    "train_df.hist(bins=10, figsize=(12, 12))"
   ]
  },
  {
   "cell_type": "markdown",
   "metadata": {},
   "source": [
    "On remarque garce à ces differentes distributions que :\n",
    "\n",
    "* De nombreuses d'entres elles ont des skewness positives comme par exemple HOME_VAL ou MVR_PTS.\n",
    "* La variable OLDCLAIM à une distribution un peu surpreneante la valeur 0 en dominante.\n",
    "* Les echelles de données sont differentes"
   ]
  },
  {
   "cell_type": "markdown",
   "metadata": {},
   "source": [
    "#### Correlation (Pearson) sur les features continues"
   ]
  },
  {
   "cell_type": "code",
   "execution_count": 24,
   "metadata": {
    "scrolled": false
   },
   "outputs": [
    {
     "data": {
      "text/plain": [
       "<matplotlib.axes._subplots.AxesSubplot at 0x1bb8b35bef0>"
      ]
     },
     "execution_count": 24,
     "metadata": {},
     "output_type": "execute_result"
    },
    {
     "data": {
      "image/png": "[encoded data removed]",
      "text/plain": [
       "<Figure size 792x648 with 2 Axes>"
      ]
     },
     "metadata": {
      "needs_background": "light"
     },
     "output_type": "display_data"
    }
   ],
   "source": [
    "# Compute the correlation matrix\n",
    "corr = train_df.corr()\n",
    "\n",
    "# Generate a mask for the upper triangle\n",
    "mask = np.triu(np.ones_like(corr, dtype=bool))\n",
    "\n",
    "# Set up the matplotlib figure\n",
    "f, ax = plt.subplots(figsize=(11, 9))\n",
    "\n",
    "# Generate a custom diverging colormap\n",
    "cmap = sns.diverging_palette(230, 20, as_cmap=True)\n",
    "\n",
    "# Draw the heatmap with the mask and correct aspect ratio\n",
    "sns.heatmap(corr, mask=mask, cmap=cmap, vmax=.3, center=0,\n",
    "            square=True, linewidths=.5, cbar_kws={\"shrink\": .5})"
   ]
  },
  {
   "cell_type": "markdown",
   "metadata": {},
   "source": [
    "On remarque des fortes correlations entre les variables :\n",
    "* TARGET_FLAG et CLM_FREQ / MVR_PTS\n",
    "* HOMEKIDS et KIDSDRIVE\n",
    "\n",
    "On remarque des correlations opposées entre les variables :\n",
    "* AGE et HOMEKIDS\n",
    "* HOMEVAL et TARGET_FLAG"
   ]
  },
  {
   "cell_type": "markdown",
   "metadata": {},
   "source": [
    "##  Features Engineering"
   ]
  },
  {
   "cell_type": "markdown",
   "metadata": {},
   "source": [
    "\n",
    "Nous allons donc dans un transformer notre jeu de données à travers:\n",
    "\n",
    "* Concatenation de colonne\n",
    "* Scaler certaines features (log)\n",
    "* Arrondir les valeurs decimal (parfois la precision est mauavaise pour le modele)"
   ]
  },
  {
   "cell_type": "markdown",
   "metadata": {},
   "source": [
    "\n",
    "Nous allons à present mettre à la meme echelle certaines features qui ont des valeurs qui ont des valeures bien plus grandes que notre target comme par exemple (AGE et TRAVETIME) en passsant par le logarithme."
   ]
  },
  {
   "cell_type": "code",
   "execution_count": 25,
   "metadata": {
    "scrolled": false
   },
   "outputs": [
    {
     "data": {
      "image/png": "[encoded data removed]",
      "text/plain": [
       "<Figure size 432x288 with 1 Axes>"
      ]
     },
     "metadata": {
      "needs_background": "light"
     },
     "output_type": "display_data"
    }
   ],
   "source": [
    "#Histogramme afin de voir la distribution de TRAVETIME par exemple\n",
    "sns.distplot(train_df['TRAVTIME']);"
   ]
  },
  {
   "cell_type": "code",
   "execution_count": 26,
   "metadata": {},
   "outputs": [],
   "source": [
    "#Log transform data\n",
    "log_columns = ['AGE','TRAVTIME','BLUEBOOK','TIF']\n",
    "df_cut1_log_trans=train_df.loc[:,log_columns]\n",
    "train_df[log_columns] = df_cut1_log_trans[log_columns].apply(np.log10)"
   ]
  },
  {
   "cell_type": "code",
   "execution_count": 27,
   "metadata": {
    "scrolled": false
   },
   "outputs": [
    {
     "data": {
      "image/png": "[encoded data removed]",
      "text/plain": [
       "<Figure size 432x288 with 1 Axes>"
      ]
     },
     "metadata": {
      "needs_background": "light"
     },
     "output_type": "display_data"
    }
   ],
   "source": [
    "#Histogramme afin de voir sa distribution maintenant\n",
    "sns.distplot(train_df['TRAVTIME']);"
   ]
  },
  {
   "cell_type": "markdown",
   "metadata": {},
   "source": [
    "### Label encoder\n",
    "\n",
    "Nous permet de transformer des variables categorielles en variables continues"
   ]
  },
  {
   "cell_type": "code",
   "execution_count": 28,
   "metadata": {},
   "outputs": [
    {
     "name": "stdout",
     "output_type": "stream",
     "text": [
      "Shape all_data: (8161, 25)\n"
     ]
    }
   ],
   "source": [
    "cols = ('PARENT1','CAR_USE','MSTATUS','SEX','EDUCATION','JOB','CAR_TYPE','RED_CAR','REVOKED','URBANICITY')\n",
    "# process columns, apply LabelEncoder to categorical features\n",
    "for c in cols:\n",
    "    lbl = LabelEncoder() \n",
    "    lbl.fit(list(train_df[c].values)) \n",
    "    train_df[c] = lbl.transform(list(train_df[c].values))\n",
    "\n",
    "# shape        \n",
    "print('Shape all_data: {}'.format(train_df.shape))"
   ]
  },
  {
   "cell_type": "code",
   "execution_count": 29,
   "metadata": {},
   "outputs": [
    {
     "name": "stdout",
     "output_type": "stream",
     "text": [
      "Shape all_data: (2141, 25)\n"
     ]
    }
   ],
   "source": [
    "cols = ('PARENT1','CAR_USE','MSTATUS','SEX','EDUCATION','JOB','CAR_TYPE','RED_CAR','REVOKED','URBANICITY')\n",
    "# process columns, apply LabelEncoder to categorical features\n",
    "for c in cols:\n",
    "    lbl = LabelEncoder() \n",
    "    lbl.fit(list(test_df[c].values)) \n",
    "    test_df[c] = lbl.transform(list(test_df[c].values))\n",
    "\n",
    "# shape        \n",
    "print('Shape all_data: {}'.format(test_df.shape))"
   ]
  },
  {
   "cell_type": "code",
   "execution_count": 30,
   "metadata": {
    "scrolled": false
   },
   "outputs": [
    {
     "data": {
      "text/plain": [
       "INDEX            int64\n",
       "TARGET_FLAG      int64\n",
       "KIDSDRIV         int64\n",
       "AGE            float64\n",
       "HOMEKIDS         int64\n",
       "YOJ            float64\n",
       "INCOME         float64\n",
       "PARENT1          int64\n",
       "HOME_VAL       float64\n",
       "MSTATUS          int64\n",
       "SEX              int64\n",
       "EDUCATION        int64\n",
       "JOB              int64\n",
       "TRAVTIME       float64\n",
       "CAR_USE          int64\n",
       "BLUEBOOK       float64\n",
       "TIF            float64\n",
       "CAR_TYPE         int64\n",
       "RED_CAR          int64\n",
       "OLDCLAIM       float64\n",
       "CLM_FREQ         int64\n",
       "REVOKED          int64\n",
       "MVR_PTS          int64\n",
       "CAR_AGE        float64\n",
       "URBANICITY       int64\n",
       "dtype: object"
      ]
     },
     "execution_count": 30,
     "metadata": {},
     "output_type": "execute_result"
    }
   ],
   "source": [
    "train_df.dtypes"
   ]
  },
  {
   "cell_type": "markdown",
   "metadata": {},
   "source": [
    "## Modeles de machine learning"
   ]
  },
  {
   "cell_type": "markdown",
   "metadata": {},
   "source": [
    "Nous allons à present appliquer nos modeles de ML sur nos données. Le probleme etant une classification, nous allons passer par les modeles suivants car ils sont reconnues pour leurs efficacités:\n",
    "\n",
    "* Logistic Regression\n",
    "* Support Vector Machines\n",
    "* Perceptron\n",
    "* KNN"
   ]
  },
  {
   "cell_type": "code",
   "execution_count": 31,
   "metadata": {},
   "outputs": [
    {
     "data": {
      "text/plain": [
       "((8161, 24), (8161,), (2141, 24))"
      ]
     },
     "execution_count": 31,
     "metadata": {},
     "output_type": "execute_result"
    }
   ],
   "source": [
    "X_train = train_df.drop(\"TARGET_FLAG\", axis=1)\n",
    "Y_train = train_df[\"TARGET_FLAG\"]\n",
    "X_test  = test_df.drop(\"INDEX\", axis=1).copy()\n",
    "X_train.shape, Y_train.shape, X_test.shape"
   ]
  },
  {
   "cell_type": "code",
   "execution_count": 32,
   "metadata": {},
   "outputs": [
    {
     "name": "stderr",
     "output_type": "stream",
     "text": [
      "C:\\Users\\Simon\\Anaconda\\lib\\site-packages\\sklearn\\linear_model\\_logistic.py:939: ConvergenceWarning: lbfgs failed to converge (status=1):\n",
      "STOP: TOTAL NO. of ITERATIONS REACHED LIMIT.\n",
      "\n",
      "Increase the number of iterations (max_iter) or scale the data as shown in:\n",
      "    https://scikit-learn.org/stable/modules/preprocessing.html.\n",
      "Please also refer to the documentation for alternative solver options:\n",
      "    https://scikit-learn.org/stable/modules/linear_model.html#logistic-regression\n",
      "  extra_warning_msg=_LOGISTIC_SOLVER_CONVERGENCE_MSG)\n"
     ]
    },
    {
     "data": {
      "text/plain": [
       "74.66"
      ]
     },
     "execution_count": 32,
     "metadata": {},
     "output_type": "execute_result"
    }
   ],
   "source": [
    "# Logistic Regression\n",
    "\n",
    "logreg = LogisticRegression()\n",
    "logreg.fit(X_train, Y_train)\n",
    "Y_pred = logreg.predict(X_test)\n",
    "acc_log = round(logreg.score(X_train, Y_train) * 100, 2)\n",
    "acc_log"
   ]
  },
  {
   "cell_type": "code",
   "execution_count": 33,
   "metadata": {},
   "outputs": [
    {
     "data": {
      "text/plain": [
       "73.62"
      ]
     },
     "execution_count": 33,
     "metadata": {},
     "output_type": "execute_result"
    }
   ],
   "source": [
    "# Support Vector Machines\n",
    "\n",
    "svc = SVC()\n",
    "svc.fit(X_train, Y_train)\n",
    "Y_pred = svc.predict(X_test)\n",
    "acc_svc = round(svc.score(X_train, Y_train) * 100, 2)\n",
    "acc_svc"
   ]
  },
  {
   "cell_type": "code",
   "execution_count": 34,
   "metadata": {},
   "outputs": [
    {
     "data": {
      "text/plain": [
       "73.57"
      ]
     },
     "execution_count": 34,
     "metadata": {},
     "output_type": "execute_result"
    }
   ],
   "source": [
    "# Perceptron\n",
    "\n",
    "perceptron = Perceptron()\n",
    "perceptron.fit(X_train, Y_train)\n",
    "Y_pred = perceptron.predict(X_test)\n",
    "acc_perceptron = round(perceptron.score(X_train, Y_train) * 100, 2)\n",
    "acc_perceptron"
   ]
  },
  {
   "cell_type": "code",
   "execution_count": 35,
   "metadata": {
    "scrolled": false
   },
   "outputs": [
    {
     "data": {
      "text/plain": [
       "82.58"
      ]
     },
     "execution_count": 35,
     "metadata": {},
     "output_type": "execute_result"
    }
   ],
   "source": [
    "#KNN\n",
    "\n",
    "knn = KNeighborsClassifier(n_neighbors = 3)\n",
    "knn.fit(X_train, Y_train)\n",
    "Y_pred = knn.predict(X_test)\n",
    "acc_knn = round(knn.score(X_train, Y_train) * 100, 2)\n",
    "acc_knn"
   ]
  },
  {
   "cell_type": "markdown",
   "metadata": {},
   "source": [
    " \n",
    " Nous allons donc garder notre model de KNN car c'est le plus performant des quatres.\n",
    "\n"
   ]
  },
  {
   "cell_type": "code",
   "execution_count": 36,
   "metadata": {
    "scrolled": false
   },
   "outputs": [
    {
     "name": "stdout",
     "output_type": "stream",
     "text": [
      "Feature: 0, Score: 0.15150\n",
      "Feature: 1, Score: 0.00000\n",
      "Feature: 2, Score: 0.00000\n",
      "Feature: 3, Score: 0.00007\n",
      "Feature: 4, Score: 0.00250\n",
      "Feature: 5, Score: 0.08102\n",
      "Feature: 6, Score: 0.00000\n",
      "Feature: 7, Score: 0.12790\n",
      "Feature: 8, Score: 0.00012\n",
      "Feature: 9, Score: 0.00007\n",
      "Feature: 10, Score: 0.00071\n",
      "Feature: 11, Score: 0.00189\n",
      "Feature: 12, Score: 0.00000\n",
      "Feature: 13, Score: 0.00000\n",
      "Feature: 14, Score: 0.00000\n",
      "Feature: 15, Score: 0.00005\n",
      "Feature: 16, Score: 0.00069\n",
      "Feature: 17, Score: 0.00005\n",
      "Feature: 18, Score: 0.01321\n",
      "Feature: 19, Score: 0.00022\n",
      "Feature: 20, Score: 0.00000\n",
      "Feature: 21, Score: 0.00100\n",
      "Feature: 22, Score: 0.00257\n",
      "Feature: 23, Score: -0.00002\n"
     ]
    },
    {
     "data": {
      "image/png": "[encoded data removed]",
      "text/plain": [
       "<Figure size 432x288 with 1 Axes>"
      ]
     },
     "metadata": {
      "needs_background": "light"
     },
     "output_type": "display_data"
    }
   ],
   "source": [
    "from sklearn.inspection import permutation_importance\n",
    "\n",
    "# perform permutation importance\n",
    "results = permutation_importance(knn, X_train, Y_train, scoring='neg_mean_squared_error')\n",
    "# get importance\n",
    "importance = results.importances_mean\n",
    "# summarize feature importance\n",
    "for i,v in enumerate(importance):\n",
    "    print('Feature: %0d, Score: %.5f' % (i,v))\n",
    "# plot feature importance\n",
    "pyplot.bar([x for x in range(len(importance))], importance)\n",
    "pyplot.show()"
   ]
  },
  {
   "cell_type": "code",
   "execution_count": 37,
   "metadata": {},
   "outputs": [
    {
     "data": {
      "text/plain": [
       "((8161, 17), (8161,), (2141, 17))"
      ]
     },
     "execution_count": 37,
     "metadata": {},
     "output_type": "execute_result"
    }
   ],
   "source": [
    "#Conservation des features qui ont un impact sur notre modele\n",
    "train_df = train_df.drop(['KIDSDRIV', 'MSTATUS', 'SEX', 'TRAVTIME', 'BLUEBOOK', 'TIF','OLDCLAIM'],1)\n",
    "test_df = test_df.drop(['KIDSDRIV', 'MSTATUS', 'SEX', 'TRAVTIME', 'BLUEBOOK', 'TIF','OLDCLAIM'],1)\n",
    "\n",
    "#Reinitilisation des jeu de train et test\n",
    "X_train = train_df.drop(\"TARGET_FLAG\", axis=1)\n",
    "Y_train = train_df[\"TARGET_FLAG\"]\n",
    "X_test  = test_df.drop(\"INDEX\", axis=1).copy()\n",
    "X_train.shape, Y_train.shape, X_test.shape"
   ]
  },
  {
   "cell_type": "code",
   "execution_count": 38,
   "metadata": {},
   "outputs": [
    {
     "name": "stdout",
     "output_type": "stream",
     "text": [
      "Score:  82.67\n"
     ]
    }
   ],
   "source": [
    "#KNN\n",
    "\n",
    "knn = KNeighborsClassifier(n_neighbors = 3)\n",
    "knn.fit(X_train, Y_train)\n",
    "Y_pred = knn.predict(X_test)\n",
    "acc_knn = round(knn.score(X_train, Y_train) * 100, 2)\n",
    "print(\"Score: \",acc_knn)"
   ]
  },
  {
   "cell_type": "markdown",
   "metadata": {},
   "source": [
    "### Nous avons amelioré le score de notre modele grace à la selection de features qui ont plus d'importance dans ce modele."
   ]
  },
  {
   "cell_type": "markdown",
   "metadata": {},
   "source": [
    " Nous allons maintenant predire notre target TARGET_FLAG grace au modele de KNN. Desormais les predictions seront affichées dans le csv submission pour chaque INDEX client.\n"
   ]
  },
  {
   "cell_type": "code",
   "execution_count": 39,
   "metadata": {
    "scrolled": true
   },
   "outputs": [
    {
     "data": {
      "text/plain": [
       "2141"
      ]
     },
     "execution_count": 39,
     "metadata": {},
     "output_type": "execute_result"
    }
   ],
   "source": [
    "prediction= knn.predict(X_test)\n",
    "prediction.size"
   ]
  },
  {
   "cell_type": "code",
   "execution_count": 40,
   "metadata": {},
   "outputs": [],
   "source": [
    "INDEX = test_df['INDEX']\n",
    "output = pd.DataFrame({'INDEX': INDEX, 'TARGET_FLAG': prediction},columns=['INDEX','TARGET_FLAG'])\n",
    "output.to_csv('my_submission.csv', index=False)"
   ]
  },
  {
   "cell_type": "code",
   "execution_count": 41,
   "metadata": {},
   "outputs": [
    {
     "data": {
      "text/html": [
       "<div>\n",
       "<style scoped>\n",
       "    .dataframe tbody tr th:only-of-type {\n",
       "        vertical-align: middle;\n",
       "    }\n",
       "\n",
       "    .dataframe tbody tr th {\n",
       "        vertical-align: top;\n",
       "    }\n",
       "\n",
       "    .dataframe thead th {\n",
       "        text-align: right;\n",
       "    }\n",
       "</style>\n",
       "<table border=\"1\" class=\"dataframe\">\n",
       "  <thead>\n",
       "    <tr style=\"text-align: right;\">\n",
       "      <th></th>\n",
       "      <th>INDEX</th>\n",
       "      <th>TARGET_FLAG</th>\n",
       "    </tr>\n",
       "  </thead>\n",
       "  <tbody>\n",
       "    <tr>\n",
       "      <th>0</th>\n",
       "      <td>3</td>\n",
       "      <td>1</td>\n",
       "    </tr>\n",
       "    <tr>\n",
       "      <th>1</th>\n",
       "      <td>9</td>\n",
       "      <td>0</td>\n",
       "    </tr>\n",
       "    <tr>\n",
       "      <th>2</th>\n",
       "      <td>10</td>\n",
       "      <td>0</td>\n",
       "    </tr>\n",
       "    <tr>\n",
       "      <th>3</th>\n",
       "      <td>18</td>\n",
       "      <td>0</td>\n",
       "    </tr>\n",
       "    <tr>\n",
       "      <th>4</th>\n",
       "      <td>21</td>\n",
       "      <td>1</td>\n",
       "    </tr>\n",
       "  </tbody>\n",
       "</table>\n",
       "</div>"
      ],
      "text/plain": [
       "   INDEX  TARGET_FLAG\n",
       "0      3            1\n",
       "1      9            0\n",
       "2     10            0\n",
       "3     18            0\n",
       "4     21            1"
      ]
     },
     "execution_count": 41,
     "metadata": {},
     "output_type": "execute_result"
    }
   ],
   "source": [
    "output.head()"
   ]
  },
  {
   "cell_type": "markdown",
   "metadata": {},
   "source": [
    "## Conclusion\n",
    "\n",
    "Ce projet était court mais enrichissant. Bien sur j'aurais aimé effectuer plus de netoyage sur mes données, effectuer une ACP pour reduire le nombre de dimensions de mes variables, regarder les p_value ou analyser variables par variables afin d'effectuer le traitement le plus efficace des Nan. J'aurais egalement pu diminuer les nombres de categories par features ou encore creer de nouvelles features afin de rendre ce modele encore plus précis.\n",
    "\n",
    "Mon EDA est assez rapide mais permet de comprendre les features dans leurs globalités à travers leurs distribution et leurs correlations.\n",
    "\n",
    "Enfin pour ce qui est des modeles, il aurait fallu parametrer nos autres modeles de KNN afin de l'optimiser à travers un grid_search afin de trouver les meilleurs  hyperparametres.\n",
    "\n",
    "Je vous remercie pour votre lecture. Si vous avez la moindre remarques, n'hesitez pas a me contacter : simon.adda@yahoo.fr\n",
    "\n",
    "Simon ADDA"
   ]
  },
  {
   "cell_type": "code",
   "execution_count": 42,
   "metadata": {},
   "outputs": [
    {
     "name": "stdout",
     "output_type": "stream",
     "text": [
      "Requirement already satisfied: jupyterthemes in c:\\users\\simon\\anaconda\\lib\\site-packages (0.20.0)\n",
      "Requirement already satisfied: matplotlib>=1.4.3 in c:\\users\\simon\\anaconda\\lib\\site-packages (from jupyterthemes) (3.1.1)\n",
      "Requirement already satisfied: jupyter-core in c:\\users\\simon\\anaconda\\lib\\site-packages (from jupyterthemes) (4.6.1)\n",
      "Requirement already satisfied: notebook>=5.6.0 in c:\\users\\simon\\anaconda\\lib\\site-packages (from jupyterthemes) (6.0.2)\n",
      "Requirement already satisfied: lesscpy>=0.11.2 in c:\\users\\simon\\anaconda\\lib\\site-packages (from jupyterthemes) (0.14.0)\n",
      "Requirement already satisfied: ipython>=5.4.1 in c:\\users\\simon\\anaconda\\lib\\site-packages (from jupyterthemes) (7.10.2)\n",
      "Requirement already satisfied: cycler>=0.10 in c:\\users\\simon\\anaconda\\lib\\site-packages (from matplotlib>=1.4.3->jupyterthemes) (0.10.0)\n",
      "Requirement already satisfied: kiwisolver>=1.0.1 in c:\\users\\simon\\anaconda\\lib\\site-packages (from matplotlib>=1.4.3->jupyterthemes) (1.1.0)\n",
      "Requirement already satisfied: pyparsing!=2.0.4,!=2.1.2,!=2.1.6,>=2.0.1 in c:\\users\\simon\\anaconda\\lib\\site-packages (from matplotlib>=1.4.3->jupyterthemes) (2.4.5)\n",
      "Requirement already satisfied: python-dateutil>=2.1 in c:\\users\\simon\\anaconda\\lib\\site-packages (from matplotlib>=1.4.3->jupyterthemes) (2.8.1)\n",
      "Requirement already satisfied: numpy>=1.11 in c:\\users\\simon\\anaconda\\lib\\site-packages (from matplotlib>=1.4.3->jupyterthemes) (1.17.4)\n",
      "Requirement already satisfied: traitlets in c:\\users\\simon\\anaconda\\lib\\site-packages (from jupyter-core->jupyterthemes) (4.3.3)\n",
      "Requirement already satisfied: pywin32>=1.0; sys_platform == \"win32\" in c:\\users\\simon\\anaconda\\lib\\site-packages (from jupyter-core->jupyterthemes) (223)\n",
      "Requirement already satisfied: jinja2 in c:\\users\\simon\\anaconda\\lib\\site-packages (from notebook>=5.6.0->jupyterthemes) (2.10.3)\n",
      "Requirement already satisfied: Send2Trash in c:\\users\\simon\\anaconda\\lib\\site-packages (from notebook>=5.6.0->jupyterthemes) (1.5.0)\n",
      "Requirement already satisfied: jupyter-client>=5.3.4 in c:\\users\\simon\\anaconda\\lib\\site-packages (from notebook>=5.6.0->jupyterthemes) (5.3.4)\n",
      "Requirement already satisfied: tornado>=5.0 in c:\\users\\simon\\anaconda\\lib\\site-packages (from notebook>=5.6.0->jupyterthemes) (6.0.3)\n",
      "Requirement already satisfied: nbformat in c:\\users\\simon\\anaconda\\lib\\site-packages (from notebook>=5.6.0->jupyterthemes) (4.4.0)\n",
      "Requirement already satisfied: pyzmq>=17 in c:\\users\\simon\\anaconda\\lib\\site-packages (from notebook>=5.6.0->jupyterthemes) (18.1.0)\n",
      "Requirement already satisfied: ipython-genutils in c:\\users\\simon\\anaconda\\lib\\site-packages (from notebook>=5.6.0->jupyterthemes) (0.2.0)\n",
      "Requirement already satisfied: nbconvert in c:\\users\\simon\\anaconda\\lib\\site-packages (from notebook>=5.6.0->jupyterthemes) (5.6.1)\n",
      "Requirement already satisfied: ipykernel in c:\\users\\simon\\anaconda\\lib\\site-packages (from notebook>=5.6.0->jupyterthemes) (5.1.3)\n",
      "Requirement already satisfied: terminado>=0.8.1 in c:\\users\\simon\\anaconda\\lib\\site-packages (from notebook>=5.6.0->jupyterthemes) (0.8.3)\n",
      "Requirement already satisfied: prometheus-client in c:\\users\\simon\\anaconda\\lib\\site-packages (from notebook>=5.6.0->jupyterthemes) (0.7.1)\n",
      "Requirement already satisfied: six in c:\\users\\simon\\anaconda\\lib\\site-packages (from lesscpy>=0.11.2->jupyterthemes) (1.13.0)\n",
      "Requirement already satisfied: ply in c:\\users\\simon\\anaconda\\lib\\site-packages (from lesscpy>=0.11.2->jupyterthemes) (3.11)\n",
      "Requirement already satisfied: pickleshare in c:\\users\\simon\\anaconda\\lib\\site-packages (from ipython>=5.4.1->jupyterthemes) (0.7.5)\n",
      "Requirement already satisfied: pygments in c:\\users\\simon\\anaconda\\lib\\site-packages (from ipython>=5.4.1->jupyterthemes) (2.5.2)\n",
      "Requirement already satisfied: setuptools>=18.5 in c:\\users\\simon\\anaconda\\lib\\site-packages (from ipython>=5.4.1->jupyterthemes) (42.0.2.post20191203)\n",
      "Requirement already satisfied: decorator in c:\\users\\simon\\anaconda\\lib\\site-packages (from ipython>=5.4.1->jupyterthemes) (4.4.1)\n",
      "Requirement already satisfied: prompt-toolkit!=3.0.0,!=3.0.1,<3.1.0,>=2.0.0 in c:\\users\\simon\\anaconda\\lib\\site-packages (from ipython>=5.4.1->jupyterthemes) (2.0.9)\n",
      "Requirement already satisfied: colorama; sys_platform == \"win32\" in c:\\users\\simon\\anaconda\\lib\\site-packages (from ipython>=5.4.1->jupyterthemes) (0.4.3)\n",
      "Requirement already satisfied: jedi>=0.10 in c:\\users\\simon\\anaconda\\lib\\site-packages (from ipython>=5.4.1->jupyterthemes) (0.14.1)\n",
      "Requirement already satisfied: backcall in c:\\users\\simon\\anaconda\\lib\\site-packages (from ipython>=5.4.1->jupyterthemes) (0.1.0)\n",
      "Requirement already satisfied: MarkupSafe>=0.23 in c:\\users\\simon\\anaconda\\lib\\site-packages (from jinja2->notebook>=5.6.0->jupyterthemes) (1.1.1)\n",
      "Requirement already satisfied: jsonschema!=2.5.0,>=2.4 in c:\\users\\simon\\anaconda\\lib\\site-packages (from nbformat->notebook>=5.6.0->jupyterthemes) (3.2.0)\n",
      "Requirement already satisfied: mistune<2,>=0.8.1 in c:\\users\\simon\\anaconda\\lib\\site-packages (from nbconvert->notebook>=5.6.0->jupyterthemes) (0.8.4)\n",
      "Requirement already satisfied: bleach in c:\\users\\simon\\anaconda\\lib\\site-packages (from nbconvert->notebook>=5.6.0->jupyterthemes) (3.1.0)\n",
      "Requirement already satisfied: entrypoints>=0.2.2 in c:\\users\\simon\\anaconda\\lib\\site-packages (from nbconvert->notebook>=5.6.0->jupyterthemes) (0.3)\n",
      "Requirement already satisfied: defusedxml in c:\\users\\simon\\anaconda\\lib\\site-packages (from nbconvert->notebook>=5.6.0->jupyterthemes) (0.6.0)\n",
      "Requirement already satisfied: testpath in c:\\users\\simon\\anaconda\\lib\\site-packages (from nbconvert->notebook>=5.6.0->jupyterthemes) (0.4.4)\n",
      "Requirement already satisfied: pandocfilters>=1.4.1 in c:\\users\\simon\\anaconda\\lib\\site-packages (from nbconvert->notebook>=5.6.0->jupyterthemes) (1.4.2)\n",
      "Requirement already satisfied: wcwidth in c:\\users\\simon\\anaconda\\lib\\site-packages (from prompt-toolkit!=3.0.0,!=3.0.1,<3.1.0,>=2.0.0->ipython>=5.4.1->jupyterthemes) (0.1.7)\n",
      "Requirement already satisfied: parso>=0.5.0 in c:\\users\\simon\\anaconda\\lib\\site-packages (from jedi>=0.10->ipython>=5.4.1->jupyterthemes) (0.5.2)\n",
      "Requirement already satisfied: attrs>=17.4.0 in c:\\users\\simon\\anaconda\\lib\\site-packages (from jsonschema!=2.5.0,>=2.4->nbformat->notebook>=5.6.0->jupyterthemes) (19.3.0)\n",
      "Requirement already satisfied: pyrsistent>=0.14.0 in c:\\users\\simon\\anaconda\\lib\\site-packages (from jsonschema!=2.5.0,>=2.4->nbformat->notebook>=5.6.0->jupyterthemes) (0.15.6)\n",
      "Requirement already satisfied: importlib-metadata; python_version < \"3.8\" in c:\\users\\simon\\anaconda\\lib\\site-packages (from jsonschema!=2.5.0,>=2.4->nbformat->notebook>=5.6.0->jupyterthemes) (1.3.0)\n",
      "Requirement already satisfied: webencodings in c:\\users\\simon\\anaconda\\lib\\site-packages (from bleach->nbconvert->notebook>=5.6.0->jupyterthemes) (0.5.1)\n",
      "Requirement already satisfied: zipp>=0.5 in c:\\users\\simon\\anaconda\\lib\\site-packages (from importlib-metadata; python_version < \"3.8\"->jsonschema!=2.5.0,>=2.4->nbformat->notebook>=5.6.0->jupyterthemes) (0.6.0)\n",
      "Requirement already satisfied: more-itertools in c:\\users\\simon\\anaconda\\lib\\site-packages (from zipp>=0.5->importlib-metadata; python_version < \"3.8\"->jsonschema!=2.5.0,>=2.4->nbformat->notebook>=5.6.0->jupyterthemes) (8.0.2)\n"
     ]
    }
   ],
   "source": [
    "! pip install jupyterthemes"
   ]
  },
  {
   "cell_type": "code",
   "execution_count": 44,
   "metadata": {},
   "outputs": [],
   "source": [
    "!jt -t oceans16"
   ]
  },
  {
   "cell_type": "code",
   "execution_count": null,
   "metadata": {},
   "outputs": [],
   "source": []
  }
 ],
 "metadata": {
  "kernelspec": {
   "display_name": "Python 3",
   "language": "python",
   "name": "python3"
  },
  "language_info": {
   "codemirror_mode": {
    "name": "ipython",
    "version": 3
   },
   "file_extension": ".py",
   "mimetype": "text/x-python",
   "name": "python",
   "nbconvert_exporter": "python",
   "pygments_lexer": "ipython3",
   "version": "3.7.3"
  }
 },
 "nbformat": 4,
 "nbformat_minor": 2
}
